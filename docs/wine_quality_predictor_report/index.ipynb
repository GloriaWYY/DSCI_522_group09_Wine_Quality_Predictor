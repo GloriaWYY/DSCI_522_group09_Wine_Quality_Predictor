{
 "cells": [
  {
   "cell_type": "markdown",
   "id": "6c414eaf-e201-4b72-a3dd-e83b9cd9bb95",
   "metadata": {},
   "source": [
    "# Predicting Wine Quality from Physicochemical Features "
   ]
  },
  {
   "cell_type": "markdown",
   "id": "61dd08bd-12c3-49bd-b72e-bc823c8a8af6",
   "metadata": {},
   "source": [
    "*Authors: Gabriel Fairbrother, Paniz Fazlali, Luming Yang, Wanying Ye; The University of British Columbia, Master of Data Science.*  \n",
    "_2021-12-11_"
   ]
  }
 ],
 "metadata": {
  "kernelspec": {
   "display_name": "Python 3 (ipykernel)",
   "language": "python",
   "name": "python3"
  },
  "language_info": {
   "codemirror_mode": {
    "name": "ipython",
    "version": 3
   },
   "file_extension": ".py",
   "mimetype": "text/x-python",
   "name": "python",
   "nbconvert_exporter": "python",
   "pygments_lexer": "ipython3",
   "version": "3.9.5"
  }
 },
 "nbformat": 4,
 "nbformat_minor": 5
}
