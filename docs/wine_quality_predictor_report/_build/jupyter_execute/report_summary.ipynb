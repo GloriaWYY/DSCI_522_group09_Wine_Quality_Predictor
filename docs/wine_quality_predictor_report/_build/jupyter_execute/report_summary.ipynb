{
 "cells": [
  {
   "cell_type": "markdown",
   "id": "421eac9e-f534-4799-af40-42fbd2397452",
   "metadata": {},
   "source": [
    "# Summary"
   ]
  },
  {
   "cell_type": "markdown",
   "id": "3ec871af-746e-4a0b-bd65-862c42dd3aa6",
   "metadata": {},
   "source": [
    "This project is an attempt to build a classification model for predicting wine quality. We have two main questions. First, can we use a machine learning model to predict the human perceived quality of a wine using its physical and chemical attributes? Second, which of these attributes contribute most to that perceived quality? \n",
    "\n",
    "We evaluated three models including Logistic Regression, Support Vector Machine with linear keranl (SVC linear) and Random Forest Classification. Our best classifier was Random Forest Classifier, with the best validation ROC AUC (One vs Rest) score of 0.867 through hyperparameter optimization. The test ROC AUC (One vs Rest) score for Random Forest Classifier was 0.685. The confusion matrix implies that the model did a fairly good job - most of the false predictions fall into adjacent classes, which makes sense because our targets classes are indeed ordinal. The feature importances given by this optimized model suggested that `alcohol`, `density` and `volatile acidity` are the top 3 contributing features in this prediction task. In general, we are confident to use and share this model as a preliminary tool to classify the quality scores of red and white wines. We recommend further improvement on feature engineering to extract better features and increase the model performance."
   ]
  }
 ],
 "metadata": {
  "kernelspec": {
   "display_name": "Python 3 (ipykernel)",
   "language": "python",
   "name": "python3"
  },
  "language_info": {
   "codemirror_mode": {
    "name": "ipython",
    "version": 3
   },
   "file_extension": ".py",
   "mimetype": "text/x-python",
   "name": "python",
   "nbconvert_exporter": "python",
   "pygments_lexer": "ipython3",
   "version": "3.10.0"
  }
 },
 "nbformat": 4,
 "nbformat_minor": 5
}