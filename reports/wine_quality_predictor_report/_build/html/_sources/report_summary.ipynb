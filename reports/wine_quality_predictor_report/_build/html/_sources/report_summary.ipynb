{
 "cells": [
  {
   "cell_type": "markdown",
   "id": "421eac9e-f534-4799-af40-42fbd2397452",
   "metadata": {
    "tags": []
   },
   "source": [
    "# Summary"
   ]
  },
  {
   "cell_type": "markdown",
   "id": "3ec871af-746e-4a0b-bd65-862c42dd3aa6",
   "metadata": {},
   "source": [
    "This project is an attempt to build a classification model for predicting wine quality. We will evaluate three models for effectiveness in predicting quality scores in red and white wines.  \n",
    "**Analysis and Results Summary Pending**"
   ]
  }
 ],
 "metadata": {
  "kernelspec": {
   "display_name": "Python [conda env:wine_quality_predictor]",
   "language": "python",
   "name": "conda-env-wine_quality_predictor-py"
  },
  "language_info": {
   "codemirror_mode": {
    "name": "ipython",
    "version": 3
   },
   "file_extension": ".py",
   "mimetype": "text/x-python",
   "name": "python",
   "nbconvert_exporter": "python",
   "pygments_lexer": "ipython3",
   "version": "3.10.0"
  }
 },
 "nbformat": 4,
 "nbformat_minor": 5
}
