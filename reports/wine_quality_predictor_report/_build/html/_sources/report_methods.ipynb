{
 "cells": [
  {
   "cell_type": "markdown",
   "id": "da3b6806-aae0-49ff-bc6f-a0da044fa942",
   "metadata": {},
   "source": [
    "# Methods"
   ]
  },
  {
   "cell_type": "markdown",
   "id": "4b7be599-20fd-4d26-93c4-887edd97921e",
   "metadata": {},
   "source": [
    "## Data\n",
    "\n",
    "The data sets used in this project were sampled from the red and white _vinho verde_ wines from the North of Portugal, created by Paulo Cortez, António Cerdeira, Fernando Almeida, Telmo Matos, and José Reis {cite:p}`cortez2009modeling`. They were sourced from the UC Irvine Machine Learning Repository and can be found [here](https://archive-beta.ics.uci.edu/ml/datasets/wine+quality). One data set is for the red wine, and the other is for the white wine, and both data sets have the same features and target columns. Each row represents a wine sample with its physicochemical properties such as fixed acidity, volatile acidity, etc. The target is a score (integer) ranging from 0 (very bad) to 10 (excellent) that represents the quality of the wine."
   ]
  },
  {
   "cell_type": "markdown",
   "id": "18cf37d1-c0df-48cf-ad1d-ba13dbcff934",
   "metadata": {},
   "source": [
    "## Analysis\n",
    "\n",
    "Three classification models were attempted and assessed to predict the quality score of a wine: the logistic regression model, the support machine vector with linear kernel (SVM RBF) and the random forest regression model. These candidates were selected based on their common intriguing attributes such as high interpretability and giving handy measurements on feature importance. All numeric features in the original datasets were included and scaled, with the type of wine (_i.e._ white or red) as an added binary feature. \n",
    "\n",
    "To address the problem of class imbalance, we re-categorized the targets classes into $\\leq4$, $5$, $6$, $7$ and $\\geq8$ so that there are enough training examples in each class. We also chose the scoring metrics to be f-1 macro score, Receiver Operating Characteristic (One vs. Rest) Area under the curve, and Receiver Operating Characteristic (One vs. One) Area under the curve. \n",
    "\n",
    "For each algorithm, the default hyperparameters were used first to train the model, and then the 5-fold cross-validation scores were compared across 3 models. Hyperparameter optimization was carried out on the algorithm with the best cross-validation score. The resulting model with the optimized hyperparameters was the solution to this prediction task. We then assess its performance on test data (_i.e._ unseen examples).\n",
    "\n",
    "The packages used in EDA and machine learning analysis include: scikit-learn {cite:p}`scikit-learn`.\n",
    "Here is my nifty citation {cite:p}`perez2011python`."
   ]
  },
  {
   "cell_type": "markdown",
   "id": "66388a16-8bdf-406d-9213-769cecfae6bd",
   "metadata": {},
   "source": [
    "Detailed citation in {ref}`bib-label`."
   ]
  },
  {
   "cell_type": "markdown",
   "id": "4ed0d347-27a3-4d35-933e-e62365f7b6c3",
   "metadata": {},
   "source": [
    "(bib-label)=\n",
    "## Bibliography\n",
    "\n",
    "```{bibliography} references.bib\n",
    ":filter: docname in docnames\n",
    "```"
   ]
  },
  {
   "cell_type": "code",
   "execution_count": null,
   "id": "64d5a626-7969-46fa-9b4e-d436fc6d0dab",
   "metadata": {},
   "outputs": [],
   "source": []
  }
 ],
 "metadata": {
  "kernelspec": {
   "display_name": "Wine Quality Predictor",
   "language": "python",
   "name": "wine_quality_predictor"
  },
  "language_info": {
   "codemirror_mode": {
    "name": "ipython",
    "version": 3
   },
   "file_extension": ".py",
   "mimetype": "text/x-python",
   "name": "python",
   "nbconvert_exporter": "python",
   "pygments_lexer": "ipython3",
   "version": "3.9.5"
  }
 },
 "nbformat": 4,
 "nbformat_minor": 5
}
