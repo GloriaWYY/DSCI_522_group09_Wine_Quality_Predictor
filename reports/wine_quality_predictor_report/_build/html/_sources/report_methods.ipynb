{
 "cells": [
  {
   "cell_type": "markdown",
   "id": "da3b6806-aae0-49ff-bc6f-a0da044fa942",
   "metadata": {},
   "source": [
    "# Methods"
   ]
  },
  {
   "cell_type": "markdown",
   "id": "0dfcc4bb-68d9-4f6e-b2e3-9208d149fa36",
   "metadata": {},
   "source": [
    "## Data"
   ]
  },
  {
   "cell_type": "markdown",
   "id": "061908bb-3b1e-4b93-a097-93b4dce0b494",
   "metadata": {},
   "source": [
    "## Analysis"
   ]
  }
 ],
 "metadata": {
  "kernelspec": {
   "display_name": "Wine Quality Predictor",
   "language": "python",
   "name": "wine_quality_predictor"
  },
  "language_info": {
   "codemirror_mode": {
    "name": "ipython",
    "version": 3
   },
   "file_extension": ".py",
   "mimetype": "text/x-python",
   "name": "python",
   "nbconvert_exporter": "python",
   "pygments_lexer": "ipython3",
   "version": "3.10.0"
  }
 },
 "nbformat": 4,
 "nbformat_minor": 5
}
