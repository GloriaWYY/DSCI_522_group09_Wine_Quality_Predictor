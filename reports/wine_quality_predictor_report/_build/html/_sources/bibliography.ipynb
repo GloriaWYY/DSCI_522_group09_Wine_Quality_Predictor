{
 "cells": [
  {
   "cell_type": "markdown",
   "id": "bf1af982-ac16-470d-b6e3-a99345a61275",
   "metadata": {},
   "source": [
    "# Bibliography\n",
    "\n",
    "```{bibliography}\n",
    "```"
   ]
  },
  {
   "cell_type": "code",
   "execution_count": null,
   "id": "740a036b-4404-4f04-bdfd-277a84f63dc6",
   "metadata": {},
   "outputs": [],
   "source": []
  }
 ],
 "metadata": {
  "kernelspec": {
   "display_name": "Wine Quality Predictor",
   "language": "python",
   "name": "wine_quality_predictor"
  },
  "language_info": {
   "codemirror_mode": {
    "name": "ipython",
    "version": 3
   },
   "file_extension": ".py",
   "mimetype": "text/x-python",
   "name": "python",
   "nbconvert_exporter": "python",
   "pygments_lexer": "ipython3",
   "version": "3.10.0"
  }
 },
 "nbformat": 4,
 "nbformat_minor": 5
}
