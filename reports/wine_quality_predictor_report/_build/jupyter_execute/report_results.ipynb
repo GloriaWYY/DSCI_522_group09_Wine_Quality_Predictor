{
 "cells": [
  {
   "cell_type": "markdown",
   "id": "4da52cc7-d6ad-4b36-915d-10f2c4516f32",
   "metadata": {
    "tags": []
   },
   "source": [
    "# Results & Discussion"
   ]
  },
  {
   "cell_type": "code",
   "execution_count": null,
   "id": "e0e0e75b-55f9-4b23-ba36-33d305aecbca",
   "metadata": {},
   "outputs": [],
   "source": []
  }
 ],
 "metadata": {
  "kernelspec": {
   "display_name": "Wine Quality Predictor",
   "language": "python",
   "name": "wine_quality_predictor"
  },
  "language_info": {
   "codemirror_mode": {
    "name": "ipython",
    "version": 3
   },
   "file_extension": ".py",
   "mimetype": "text/x-python",
   "name": "python",
   "nbconvert_exporter": "python",
   "pygments_lexer": "ipython3",
   "version": "3.10.0"
  }
 },
 "nbformat": 4,
 "nbformat_minor": 5
}