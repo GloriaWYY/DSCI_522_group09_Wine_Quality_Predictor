import pandas as pd
# reading csv files
data =  pd.read_csv('winequality-red.csv', sep=";",)
data


data.info()



